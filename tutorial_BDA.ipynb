{
 "cells": [
  {
   "metadata": {},
   "cell_type": "markdown",
   "source": [
    "# This Jupyter Notebook is about Bayesian Data Analysis for neuroscience data\n",
    "\n",
    "## Introduction\n",
    "\n",
    "This notebook is part of a 20-week internship project carried out at Ulster University.\n",
    "The main goal of the project is to make advanced Bayesian statistical models more accessible\n",
    "to experimental neuroscientists through user-friendly code, tutorials, and examples.\n",
    "\n",
    "Specifically, this notebook focuses on applying existing Bayesian models to neuroscience datasets\n",
    "using libraries in Python.\n",
    "\n",
    "## Objectives\n",
    "\n",
    "1. Apply the existing Bayesian models to a neuroscience dataset from scratch,\n",
    "   documenting each step as if it were for a beginner user.\n",
    "\n",
    "2. Design a simple and reproducible analysis pipeline using PyStan.\n",
    "\n",
    "3. Produce clear, well-documented code that can later be integrated into\n",
    "   an interactive tutorial or a web application.\n",
    "\n",
    "## Author\n",
    "\n",
    "- Mathis DA SILVA\n",
    "- Ulster University Internship (July–December 2025)\n",
    "- Supervisors: Dr. Cian O'Donnell & Dr. Conor Houghton\n",
    "\n",
    "## References\n",
    "\n",
    "- [Dataset from \"Classification of psychedelics and psychoactive drugs based on brain-wide imaging of cellular c-Fos expression\"](https://www.nature.com/articles/s41467-025-56850-6#Sec25)\n",
    "- [Hierarchical Bayesian modeling of multi-region brain cell count data](https://elifesciences.org/reviewed-preprints/102391v1)\n",
    "- [Statistical Rethinking 2023 PDF](https://civil.colorado.edu/~balajir/CVEN6833/bayes-resources/RM-StatRethink-Bayes.pdf)\n",
    "- [Statistical Rethinking 2023 Videos](https://www.youtube.com/watch?v=FdnMWdICdRs&list=PLDcUM9US4XdPz-KxHM4XHt7uUVGWWVSus)"
   ],
   "id": "28e5121069d1c55d"
  },
  {
   "metadata": {},
   "cell_type": "markdown",
   "source": "----",
   "id": "9c2127f6835f53"
  },
  {
   "metadata": {},
   "cell_type": "markdown",
   "source": "#### Here, we call libraries that we will use in this notebook.",
   "id": "8220ed98ea4ed144"
  },
  {
   "metadata": {
    "ExecuteTime": {
     "end_time": "2025-09-18T09:03:04.787670Z",
     "start_time": "2025-09-18T09:03:04.776680Z"
    }
   },
   "cell_type": "code",
   "source": [
    "import numpy as np\n",
    "import pymc as pm\n",
    "import pandas as pd\n",
    "import matplotlib.pyplot as plt\n",
    "import arviz as az\n",
    "import seaborn as sns"
   ],
   "id": "f6bad625bcdeeef",
   "outputs": [],
   "execution_count": 2
  },
  {
   "metadata": {
    "ExecuteTime": {
     "end_time": "2025-09-18T09:12:38.804268Z",
     "start_time": "2025-09-18T09:12:37.491549Z"
    }
   },
   "cell_type": "code",
   "source": [
    "datasets = {\n",
    "\n",
    "    # Load dataset 1 : 20 regions and 2 groups (16 mice)\n",
    "    'dataset1': pd.read_excel('data/dataset_neuroscience_1.xlsx', sheet_name=\"c-Fos-counts\"),\n",
    "\n",
    "    # Load dataset 2 : 40 regions and 4 groups (32 mice)\n",
    "    'dataset2': pd.read_excel('data/dataset_neuroscience_2.xlsx', sheet_name=\"c-Fos-counts\"),\n",
    "\n",
    "    # Load dataset 3 : 80 regions and 4 groups (32 mice)\n",
    "    'dataset3': pd.read_excel('data/dataset_neuroscience_3.xlsx', sheet_name=\"c-Fos-counts\"),\n",
    "\n",
    "    # Load dataset 4 : 160 regions and 6 groups (48 mice)\n",
    "    'dataset4': pd.read_excel('data/dataset_neuroscience_4.xlsx', sheet_name=\"c-Fos-counts\"),\n",
    "\n",
    "    # Load dataset 5 : 315 regions and 8 groups (64 mice)\n",
    "    'dataset5': pd.read_excel('data/dataset_neuroscience_vo.xlsx', sheet_name=\"c-Fos-counts\")\n",
    "}"
   ],
   "id": "946a9fbda673dc7f",
   "outputs": [],
   "execution_count": 10
  },
  {
   "metadata": {},
   "cell_type": "markdown",
   "source": [
    "#### Indications:\n",
    "\n",
    "Previously, we added the dataset. In which, the first three columns represent brain regions with name and abbreviation. Others represent mice group by drugs as **MDMA**, **Ketamine**, **Fluoxetine**, ...\n",
    "\n",
    "There are **64 mice** in total, and each mouse has a value for each brain region. The values represent the number of cells expressing c-Fos, a marker of **neuronal activity**. Plus, there are **315 brain regions** in the dataset."
   ],
   "id": "e757760920e0afed"
  },
  {
   "metadata": {},
   "cell_type": "markdown",
   "source": [
    "### Statistical Models\n",
    "---\n",
    "\n",
    "We will use a **Hierarchical Bayesian Model** to analyze the dataset. The model will allow us to account for the hierarchical structure of the data, where measurements are nested within brain regions and mice. Models are: **Poisson**, **Horseshoe** and **Zero-Inflated Poisson (ZIP)**.\n"
   ],
   "id": "8088cd67e4b0571b"
  }
 ],
 "metadata": {
  "kernelspec": {
   "display_name": "Python 3",
   "language": "python",
   "name": "python3"
  },
  "language_info": {
   "codemirror_mode": {
    "name": "ipython",
    "version": 2
   },
   "file_extension": ".py",
   "mimetype": "text/x-python",
   "name": "python",
   "nbconvert_exporter": "python",
   "pygments_lexer": "ipython2",
   "version": "2.7.6"
  }
 },
 "nbformat": 4,
 "nbformat_minor": 5
}
